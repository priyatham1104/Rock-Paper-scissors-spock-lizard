{
 "cells": [
  {
   "cell_type": "code",
   "execution_count": 3,
   "metadata": {},
   "outputs": [],
   "source": [
    "from keras.models import load_model\n",
    "import cv2\n",
    "import numpy as np\n",
    "from random import choice"
   ]
  },
  {
   "cell_type": "code",
   "execution_count": 4,
   "metadata": {},
   "outputs": [],
   "source": [
    "REV_CLASS_MAP = {\n",
    "    1:\"rock\",\n",
    "    2:\"paper\",\n",
    "    0:\"scissors\",\n",
    "    3:\"lizard\",\n",
    "    4:\"spock\",\n",
    "    5:\"none\",\n",
    "}"
   ]
  },
  {
   "cell_type": "code",
   "execution_count": 5,
   "metadata": {},
   "outputs": [],
   "source": [
    "def mapper(val):\n",
    "    return REV_CLASS_MAP[val]"
   ]
  },
  {
   "cell_type": "code",
   "execution_count": 6,
   "metadata": {},
   "outputs": [
    {
     "data": {
      "text/plain": [
       "'rock'"
      ]
     },
     "execution_count": 6,
     "metadata": {},
     "output_type": "execute_result"
    }
   ],
   "source": [
    "REV_CLASS_MAP[1]"
   ]
  },
  {
   "cell_type": "code",
   "execution_count": 7,
   "metadata": {},
   "outputs": [],
   "source": [
    "def calculate_winner(move1, move2):\n",
    "    if move1 == move2:\n",
    "        return \"Tie\"\n",
    "\n",
    "    if move1 == \"rock\":\n",
    "        if move2 == \"scissors\":\n",
    "            return \"User\"\n",
    "        if move2 == \"paper\":\n",
    "            return \"Computer\"\n",
    "        if move2 == \"lizard\":\n",
    "            return \"User\"\n",
    "        if move2 == \"spock\":\n",
    "            return \"Computer\"\n",
    "\n",
    "    if move1 == \"paper\":\n",
    "        if move2 == \"rock\":\n",
    "            return \"User\"\n",
    "        if move2 == \"scissors\":\n",
    "            return \"Computer\"\n",
    "        if move2 == \"lizard\":\n",
    "            return \"Computer\"\n",
    "        if move2 == \"spock\":\n",
    "            return \"User\"\n",
    "        \n",
    "\n",
    "    if move1 == \"scissors\":\n",
    "        if move2 == \"paper\":\n",
    "            return \"User\"\n",
    "        if move2 == \"rock\":\n",
    "            return \"Computer\"\n",
    "        if move2 == \"lizard\":\n",
    "            return \"User\"\n",
    "        if move2 == \"spock\":\n",
    "            return \"Computer\"\n",
    "        \n",
    "    if move1 == \"lizard\":\n",
    "        if move2 == \"paper\":\n",
    "            return \"User\"\n",
    "        if move2 == \"rock\":\n",
    "            return \"Computer\"\n",
    "        if move2 == \"scissors\":\n",
    "            return \"Computer\"\n",
    "        if move2 == \"spock\":\n",
    "            return \"User\"\n",
    "        \n",
    "    if move1 == \"spock\":\n",
    "        if move2 == \"paper\":\n",
    "            return \"Computer\"\n",
    "        if move2 == \"rock\":\n",
    "            return \"Computer\"\n",
    "        if move2 == \"scissors\":\n",
    "            return \"User\"\n",
    "        if move2 == \"lizard\":\n",
    "            return \"User\"\n",
    "        \n",
    "        "
   ]
  },
  {
   "cell_type": "code",
   "execution_count": 8,
   "metadata": {},
   "outputs": [],
   "source": [
    "model = load_model(\"rock_paper_scissors_lizrd_spock_cnn.h5\")"
   ]
  },
  {
   "cell_type": "code",
   "execution_count": 15,
   "metadata": {},
   "outputs": [],
   "source": [
    "\n",
    "cap = cv2.VideoCapture(0)\n",
    "\n",
    "prev_move = None\n",
    "\n",
    "while True:\n",
    "    ret, frame = cap.read()\n",
    "    if not ret:\n",
    "        continue\n",
    "\n",
    "    # rectangle for user to play\n",
    "    cv2.rectangle(frame, (0, 0), (250, 250), (255, 255, 255), 2)\n",
    "    # rectangle for computer to play\n",
    "    cv2.rectangle(frame, (350, 0), (550, 250), (255, 255, 255), 2)\n",
    "\n",
    "    # extract the region of image within the user rectangle\n",
    "    roi = frame[50:250, 50:250]\n",
    "    roi = roi/255.0\n",
    "#     img = cv2.cvtColor(roi, cv2.COLOR_BGR2RGB)\n",
    "#     img = cv2.resize(img, (227, 227))\n",
    "\n",
    "    # predict the move made\n",
    "    pred = model.predict(np.array([roi]))\n",
    "    move_code = np.argmax(pred[0])\n",
    "#     print(move_code)\n",
    "    user_move_name = mapper(move_code)\n",
    "\n",
    "    # predict the winner (human vs computer)\n",
    "    if prev_move != user_move_name:\n",
    "        if user_move_name != \"none\":\n",
    "            computer_move_name = choice(['rock', 'paper', 'scissors', 'lizard', 'spock'])\n",
    "            winner = calculate_winner(user_move_name, computer_move_name)\n",
    "        else:\n",
    "            computer_move_name = \"none\"\n",
    "            winner = \"Waiting...\"\n",
    "    prev_move = user_move_name\n",
    "\n",
    "    # display the information\n",
    "    font = cv2.FONT_HERSHEY_SIMPLEX\n",
    "    cv2.putText(frame, \"Your Move: \" + user_move_name,\n",
    "                (50, 275), font, 0.6, (255, 255, 255), 2, cv2.LINE_AA)\n",
    "    cv2.putText(frame, \"Computer's Move: \" + computer_move_name,\n",
    "                (250, 275), font, 0.6, (255, 255, 255), 2, cv2.LINE_AA)\n",
    "    cv2.putText(frame, \"Winner: \" + winner,\n",
    "                (300, 300), font, 0.8, (0, 0, 255), 4, cv2.LINE_AA)\n",
    "\n",
    "    if computer_move_name != \"none\":\n",
    "        icon = cv2.imread(\n",
    "            \"images/{}.png\".format(computer_move_name))\n",
    "        icon = cv2.resize(icon, (200, 200))\n",
    "        frame[0:200, 350:550] = icon\n",
    "\n",
    "    cv2.imshow(\"Rock Paper Scissors\", frame)\n",
    "\n",
    "    k = cv2.waitKey(10)\n",
    "    if k == ord('q'):\n",
    "        break\n",
    "\n",
    "cap.release()\n",
    "cv2.destroyAllWindows()\n"
   ]
  },
  {
   "cell_type": "code",
   "execution_count": null,
   "metadata": {},
   "outputs": [],
   "source": []
  }
 ],
 "metadata": {
  "kernelspec": {
   "display_name": "Python 3",
   "language": "python",
   "name": "python3"
  },
  "language_info": {
   "codemirror_mode": {
    "name": "ipython",
    "version": 3
   },
   "file_extension": ".py",
   "mimetype": "text/x-python",
   "name": "python",
   "nbconvert_exporter": "python",
   "pygments_lexer": "ipython3",
   "version": "3.8.3"
  }
 },
 "nbformat": 4,
 "nbformat_minor": 4
}
